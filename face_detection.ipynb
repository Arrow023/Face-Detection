{
 "cells": [
  {
   "cell_type": "markdown",
   "metadata": {},
   "source": [
    "# Viola Jones algorithm for face detection"
   ]
  },
  {
   "cell_type": "code",
   "execution_count": 1,
   "metadata": {},
   "outputs": [],
   "source": [
    "import cv2"
   ]
  },
  {
   "cell_type": "code",
   "execution_count": 2,
   "metadata": {},
   "outputs": [],
   "source": [
    "faces_cascade=cv2.CascadeClassifier('haarcascade_frontalface_default.xml')\n",
    "eyes_cascade=cv2.CascadeClassifier('haarcascade_eye.xml')\n",
    "smile_cascade=cv2.CascadeClassifier('haarcascade_smile.xml')\n"
   ]
  },
  {
   "cell_type": "code",
   "execution_count": 3,
   "metadata": {},
   "outputs": [],
   "source": [
    "def detect(gray, frame):\n",
    "    faces=faces_cascade.detectMultiScale(gray, 1.2, 6)\n",
    "    for (x,y,w,h) in faces:\n",
    "        cv2.rectangle(frame, (x,y), (x+w, y+h), (255,0,0), 2) #2 is the width of the frame lines\n",
    "        roi_gray=gray[x:x+w,y:y+h]   # region of interest of gray like from x to x+w and y to y+h\n",
    "        roi_color=frame[x:x+w,y:y+h]  #region of interest of color similar to roi_gray\n",
    "        eyes=eyes_cascade.detectMultiScale(roi_gray, 1.2, 5)\n",
    "        smile=smile_cascade.detectMultiScale(roi_gray,1.2,5)\n",
    "        for (ex,ey,ew,eh) in eyes:  #creating box for eyes\n",
    "            cv2.rectangle(roi_color, (ex, ey), (ex+ew, ey+eh), (0,255,0), 2)\n",
    "        for (sx,sy,sw,sh) in smile:\n",
    "            cv2.rectangle(roi_color, (sx, sy), (sx+sw, sy+sh), (0,0,255), 1) \n",
    "            #cv2.circle(roi_gray,(sx+sw, sy+sh), (255,255,0), 1)\n",
    "    return frame                   "
   ]
  },
  {
   "cell_type": "code",
   "execution_count": 4,
   "metadata": {},
   "outputs": [],
   "source": [
    "video_capture = cv2.VideoCapture(0)\n",
    "#fourcc=cv2.VideoWriter_fourcc(*'XVID') #enable to record\n",
    "#output=cv2.VideoWriter('facedetection.avi',fourcc,30.0,(640,480))  # enable to record\n",
    "while True:\n",
    "    _,frame=video_capture.read()\n",
    "    gray =cv2.cvtColor(frame, cv2.COLOR_BGR2GRAY)\n",
    "    canvas = detect(gray, frame)\n",
    "    #cv2.imshow('video', canvas)  # enable to record\n",
    "    #output.write(frame)  # enable to record\n",
    "    if cv2.waitKey(1) & 0xFF == ord('l'):\n",
    "        break\n",
    "video_capture.release()\n",
    "output.release()\n",
    "cv2.destroyAllWindows()        \n",
    "    \n",
    "    \n",
    "    "
   ]
  },
  {
   "cell_type": "code",
   "execution_count": null,
   "metadata": {},
   "outputs": [],
   "source": []
  }
 ],
 "metadata": {
  "kernelspec": {
   "display_name": "Python 3",
   "language": "python",
   "name": "python3"
  },
  "language_info": {
   "codemirror_mode": {
    "name": "ipython",
    "version": 3
   },
   "file_extension": ".py",
   "mimetype": "text/x-python",
   "name": "python",
   "nbconvert_exporter": "python",
   "pygments_lexer": "ipython3",
   "version": "3.7.3"
  }
 },
 "nbformat": 4,
 "nbformat_minor": 2
}
